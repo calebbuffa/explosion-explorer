{
 "cells": [
  {
   "cell_type": "markdown",
   "metadata": {
    "id": "Ns3Whrtm0XyP"
   },
   "source": [
    "# Explosion Explorer\n",
    "\n",
    "**By Caleb Buffa and Zach Phillips**\n",
    "\n",
    "**Explosion events recorded in databases are usually confirmed by humans. But what happens if nobody is around, or survives, to confirm the event? Is it possible to estimate the probability that a suspected explosion occurred?**\n",
    "\n",
    "**The Explosion Explorer Application gives users the ability to explore unpopulated places and examine the effects that explosions have on the surface of the Earth. Explosion Explorer leverages explosion events from the open-source Armed Conflict Location Event Database (ACLED) and before/after changes in indices derived from publicly available Landsat and Sentinel-2 products (NDVI, EVI, NBRT, and SAR) as training data for estimating the probability that an explosion occurred in a certain area, during a certain time period. Explosions included in the training dataset include shellings/artillery/missiles, air/drone strikes, landmines, remote triggered devices, suicide bombings, and grenades.**\n",
    "\n",
    "**Red points initially displayed on the map are the ACLED points for explosions. Explore a known explosion location, or select a location and date for an unconfirmed location to estimate the probability that an explosion occurred in the selected location near the selected date.**\n",
    "\n",
    "**Steps to estimate unconfirmed explosions:**\n",
    "\n",
    "1. Activate the Map by clicking the box above the `Submit` button.\n",
    "2. Use the map tools to drop a placemarker on the map\n",
    "3. Select a Date to Investigate\n",
    "4. Click the `Submit` button to estimate whether/not your point has been subjected to any explosions on the date selected.\n"
   ]
  },
  {
   "cell_type": "code",
   "execution_count": 1,
   "metadata": {
    "id": "lBWe7F630XyQ"
   },
   "outputs": [],
   "source": [
    "import geemap\n",
    "import ee\n",
    "import ipywidgets as widgets\n",
    "import ipyleaflet\n",
    "import pickle\n",
    "from IPython.display import display\n",
    "\n",
    "from helper import calculate_difference\n",
    "\n",
    "ee.Initialize()\n"
   ]
  },
  {
   "cell_type": "code",
   "execution_count": null,
   "metadata": {},
   "outputs": [],
   "source": [
    "with open(\"explosion_model.sav\", \"rb\") as in_model:\n",
    "    clf = pickle.load(in_model)"
   ]
  },
  {
   "cell_type": "code",
   "execution_count": 4,
   "metadata": {},
   "outputs": [],
   "source": [
    "# acled = pd.read_csv(r'2018-02-13-2021-02-17.csv')\n",
    "# acled_sub = acled.loc[(acled['sub_event_type'] == 'Shelling/artillery/missile attack')]\n",
    "# cols = ['longitude','latitude']\n",
    "# coordinates = acled_sub[cols].values.tolist()"
   ]
  },
  {
   "cell_type": "code",
   "execution_count": 2,
   "metadata": {
    "colab": {
     "base_uri": "https://localhost:8080/",
     "height": 1000
    },
    "id": "iyZH8Z3L0XyR",
    "outputId": "0eeed34c-46b2-43fd-bd4a-092d0c6f79ff"
   },
   "outputs": [
    {
     "data": {
      "application/vnd.jupyter.widget-view+json": {
       "model_id": "5584755b9c0f44f1b6c5a91e3e968e9c",
       "version_major": 2,
       "version_minor": 0
      },
      "text/plain": [
       "Map(center=[0, 0], controls=(WidgetControl(options=['position', 'transparent_bg'], widget=HBox(children=(Toggl…"
      ]
     },
     "metadata": {},
     "output_type": "display_data"
    }
   ],
   "source": [
    "# Create an interactive map\n",
    "Map = geemap.Map(center=[0, 0], zoom=2, add_google_map=False)\n",
    "Map.add_basemap(\"HYBRID\")\n",
    "\n",
    "sentinel = ee.ImageCollection(\"COPERNICUS/S1_GRD_FLOAT\")\n",
    "landsat = ee.ImageCollection(\"LANDSAT/LC08/C01/T1_SR\")\n",
    "\n",
    "# Adding date widget to map\n",
    "date_picker = widgets.DatePicker(description=\"Pick a Date\", disabled=False)\n",
    "date_widget = widgets.Output(layout={\"border\": \"1px solid black\"})\n",
    "date_control = ipyleaflet.WidgetControl(\n",
    "    widget=date_widget, position=\"bottomright\"\n",
    ")\n",
    "Map.add_control(date_control)\n",
    "\n",
    "with date_widget:\n",
    "    display(date_picker)\n",
    "\n",
    "prediction_widget = widgets.Output(layout={\"border\": \"1px solid black\"})\n",
    "prediction_control = ipyleaflet.WidgetControl(\n",
    "    widget=prediction_widget, position=\"topright\"\n",
    ")\n",
    "Map.add_control(prediction_control)\n",
    "\n",
    "style = {\"description_width\": \"initial\"}\n",
    "\n",
    "submit = widgets.Button(\n",
    "    description=\"Submit\",\n",
    "    button_style=\"primary\",\n",
    "    tooltip=\"Click me\",\n",
    "    style=style,\n",
    ")\n",
    "\n",
    "aoi_widget = widgets.Checkbox(\n",
    "    value=False,\n",
    "    description=\"Drop point, pick date, and click Submit\",\n",
    "    style=style,\n",
    ")\n",
    "full_widget = widgets.VBox([widgets.HBox([aoi_widget]), submit])\n",
    "\n",
    "full_control = ipyleaflet.WidgetControl(\n",
    "    widget=full_widget, position=\"bottomright\"\n",
    ")\n",
    "Map.add_control(full_control)\n",
    "\n",
    "\n",
    "def submit_clicked(b):\n",
    "    with prediction_widget:\n",
    "        prediction_widget.clear_output()\n",
    "        print(\"Computing...\")\n",
    "        try:\n",
    "            roi = ee.FeatureCollection(Map.draw_last_feature)\n",
    "            date = str(date_picker.value)\n",
    "            if roi:\n",
    "                if Map.draw_last_feature is not None:\n",
    "                    roi = ee.FeatureCollection(Map.draw_last_feature)\n",
    "                    if date_picker.value is not None:\n",
    "                        calculate_difference(roi, date, Map, clf)\n",
    "                    else:\n",
    "                        pass\n",
    "                else:\n",
    "                    pass\n",
    "            else:\n",
    "                pass\n",
    "        except Exception as e:\n",
    "            print(e)\n",
    "            print(\"An Error Occured During Computation\")\n",
    "\n",
    "\n",
    "submit.on_click(submit_clicked)\n",
    "\n",
    "# cords = []\n",
    "# for c in coordinates:\n",
    "#     point = ee.Geometry.Point(c[0], c[1])\n",
    "#     cords.append(point)\n",
    "# fc = ee.FeatureCollection(cords)\n",
    "# Map.addLayer(fc, {'color':'Red'}, 'ACLED Explosions')\n",
    "\n",
    "Map\n"
   ]
  },
  {
   "cell_type": "code",
   "execution_count": null,
   "metadata": {},
   "outputs": [],
   "source": []
  }
 ],
 "metadata": {
  "colab": {
   "name": "app_frontend.ipynb",
   "provenance": []
  },
  "gist": {
   "data": {
    "description": "notebooks/wetland_mapping.ipynb",
    "public": true
   },
   "id": ""
  },
  "hide_input": true,
  "kernelspec": {
   "display_name": "Python 3",
   "language": "python",
   "name": "python3"
  },
  "language_info": {
   "codemirror_mode": {
    "name": "ipython",
    "version": 3
   },
   "file_extension": ".py",
   "mimetype": "text/x-python",
   "name": "python",
   "nbconvert_exporter": "python",
   "pygments_lexer": "ipython3",
   "version": "3.8.12"
  },
  "toc": {
   "base_numbering": 1,
   "nav_menu": {},
   "number_sections": true,
   "sideBar": true,
   "skip_h1_title": true,
   "title_cell": "Table of Contents",
   "title_sidebar": "Table of Contents",
   "toc_cell": false,
   "toc_position": {},
   "toc_section_display": true,
   "toc_window_display": false
  },
  "varInspector": {
   "cols": {
    "lenName": 16,
    "lenType": 16,
    "lenVar": 40
   },
   "kernels_config": {
    "python": {
     "delete_cmd_postfix": "",
     "delete_cmd_prefix": "del ",
     "library": "var_list.py",
     "varRefreshCmd": "print(var_dic_list())"
    },
    "r": {
     "delete_cmd_postfix": ") ",
     "delete_cmd_prefix": "rm(",
     "library": "var_list.r",
     "varRefreshCmd": "cat(var_dic_list()) "
    }
   },
   "types_to_exclude": [
    "module",
    "function",
    "builtin_function_or_method",
    "instance",
    "_Feature"
   ],
   "window_display": false
  }
 },
 "nbformat": 4,
 "nbformat_minor": 1
}
